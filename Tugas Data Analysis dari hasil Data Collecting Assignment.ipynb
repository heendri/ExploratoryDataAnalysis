{
 "cells": [
  {
   "cell_type": "markdown",
   "metadata": {},
   "source": [
    "# Tugas Data Analysis dari hasil Data Collecting Assignment\n",
    "\n",
    "## by Hendri Priyambowo "
   ]
  },
  {
   "cell_type": "markdown",
   "metadata": {},
   "source": [
    "library yang digunakan pada projek"
   ]
  },
  {
   "cell_type": "code",
   "execution_count": 1,
   "metadata": {},
   "outputs": [],
   "source": [
    "import pandas as pd"
   ]
  },
  {
   "cell_type": "markdown",
   "metadata": {},
   "source": [
    "topik yang saya kerjakan untuk tugas kali ini adalah online auction dataset\n",
    "dataset merupakan data lelang online yang dilakukan pada ebay\n",
    "dataset merupakan data lelang item \n",
    "- Cartier wristwatches\n",
    "- Palm Pilot M515 PDAs\n",
    "- Xbox game consoles\n",
    "- Swarowski beads\n",
    "\n",
    "attribut yang terdapat dalam dataset adalah sebagai berikut:\n",
    "- auctionid: unique identifier of an auction\n",
    "- bid: the proxy bid placed by a bidder\n",
    "- bidtime: the time in days that the bid was placed, from the start of the auction\n",
    "- bidder: eBay username of the bidder\n",
    "- bidderrate: eBay feedback rating of the bidder\n",
    "- openbid: the opening bid set by the seller\n",
    "- price: the closing price that the item sold for (equivalent to the second highest bid + an increment)\n",
    "- item: auction item\n",
    "- auction_type\n",
    "\n",
    "\n",
    "dataset asli dapat ditemukan pada tautan berikut\n",
    "[here](http://www.modelingonlineauctions.com/datasets)"
   ]
  },
  {
   "cell_type": "code",
   "execution_count": 4,
   "metadata": {},
   "outputs": [
    {
     "data": {
      "text/html": [
       "<div>\n",
       "<style scoped>\n",
       "    .dataframe tbody tr th:only-of-type {\n",
       "        vertical-align: middle;\n",
       "    }\n",
       "\n",
       "    .dataframe tbody tr th {\n",
       "        vertical-align: top;\n",
       "    }\n",
       "\n",
       "    .dataframe thead th {\n",
       "        text-align: right;\n",
       "    }\n",
       "</style>\n",
       "<table border=\"1\" class=\"dataframe\">\n",
       "  <thead>\n",
       "    <tr style=\"text-align: right;\">\n",
       "      <th></th>\n",
       "      <th>auctionid</th>\n",
       "      <th>bid</th>\n",
       "      <th>bidtime</th>\n",
       "      <th>bidder</th>\n",
       "      <th>bidderrate</th>\n",
       "      <th>openbid</th>\n",
       "      <th>price</th>\n",
       "      <th>item</th>\n",
       "      <th>auction_type</th>\n",
       "    </tr>\n",
       "  </thead>\n",
       "  <tbody>\n",
       "    <tr>\n",
       "      <th>0</th>\n",
       "      <td>1638893549</td>\n",
       "      <td>175.00</td>\n",
       "      <td>2.230949</td>\n",
       "      <td>schadenfreud</td>\n",
       "      <td>0.0</td>\n",
       "      <td>99.0</td>\n",
       "      <td>177.5</td>\n",
       "      <td>Cartier wristwatch</td>\n",
       "      <td>3 day auction</td>\n",
       "    </tr>\n",
       "    <tr>\n",
       "      <th>1</th>\n",
       "      <td>1638893549</td>\n",
       "      <td>100.00</td>\n",
       "      <td>2.600116</td>\n",
       "      <td>chuik</td>\n",
       "      <td>0.0</td>\n",
       "      <td>99.0</td>\n",
       "      <td>177.5</td>\n",
       "      <td>Cartier wristwatch</td>\n",
       "      <td>3 day auction</td>\n",
       "    </tr>\n",
       "    <tr>\n",
       "      <th>2</th>\n",
       "      <td>1638893549</td>\n",
       "      <td>120.00</td>\n",
       "      <td>2.600810</td>\n",
       "      <td>kiwisstuff</td>\n",
       "      <td>2.0</td>\n",
       "      <td>99.0</td>\n",
       "      <td>177.5</td>\n",
       "      <td>Cartier wristwatch</td>\n",
       "      <td>3 day auction</td>\n",
       "    </tr>\n",
       "    <tr>\n",
       "      <th>3</th>\n",
       "      <td>1638893549</td>\n",
       "      <td>150.00</td>\n",
       "      <td>2.601076</td>\n",
       "      <td>kiwisstuff</td>\n",
       "      <td>2.0</td>\n",
       "      <td>99.0</td>\n",
       "      <td>177.5</td>\n",
       "      <td>Cartier wristwatch</td>\n",
       "      <td>3 day auction</td>\n",
       "    </tr>\n",
       "    <tr>\n",
       "      <th>4</th>\n",
       "      <td>1638893549</td>\n",
       "      <td>177.50</td>\n",
       "      <td>2.909826</td>\n",
       "      <td>eli.flint@flightsafety.co</td>\n",
       "      <td>4.0</td>\n",
       "      <td>99.0</td>\n",
       "      <td>177.5</td>\n",
       "      <td>Cartier wristwatch</td>\n",
       "      <td>3 day auction</td>\n",
       "    </tr>\n",
       "    <tr>\n",
       "      <th>5</th>\n",
       "      <td>1639453840</td>\n",
       "      <td>1.00</td>\n",
       "      <td>0.355856</td>\n",
       "      <td>bfalconb</td>\n",
       "      <td>2.0</td>\n",
       "      <td>1.0</td>\n",
       "      <td>355.0</td>\n",
       "      <td>Cartier wristwatch</td>\n",
       "      <td>3 day auction</td>\n",
       "    </tr>\n",
       "    <tr>\n",
       "      <th>6</th>\n",
       "      <td>1639453840</td>\n",
       "      <td>1.25</td>\n",
       "      <td>0.484757</td>\n",
       "      <td>sbord</td>\n",
       "      <td>1.0</td>\n",
       "      <td>1.0</td>\n",
       "      <td>355.0</td>\n",
       "      <td>Cartier wristwatch</td>\n",
       "      <td>3 day auction</td>\n",
       "    </tr>\n",
       "    <tr>\n",
       "      <th>7</th>\n",
       "      <td>1639453840</td>\n",
       "      <td>1.50</td>\n",
       "      <td>0.492639</td>\n",
       "      <td>bfalconb</td>\n",
       "      <td>2.0</td>\n",
       "      <td>1.0</td>\n",
       "      <td>355.0</td>\n",
       "      <td>Cartier wristwatch</td>\n",
       "      <td>3 day auction</td>\n",
       "    </tr>\n",
       "    <tr>\n",
       "      <th>8</th>\n",
       "      <td>1639453840</td>\n",
       "      <td>25.00</td>\n",
       "      <td>0.494630</td>\n",
       "      <td>sbord</td>\n",
       "      <td>1.0</td>\n",
       "      <td>1.0</td>\n",
       "      <td>355.0</td>\n",
       "      <td>Cartier wristwatch</td>\n",
       "      <td>3 day auction</td>\n",
       "    </tr>\n",
       "    <tr>\n",
       "      <th>9</th>\n",
       "      <td>1639453840</td>\n",
       "      <td>2.00</td>\n",
       "      <td>0.511169</td>\n",
       "      <td>bfalconb</td>\n",
       "      <td>2.0</td>\n",
       "      <td>1.0</td>\n",
       "      <td>355.0</td>\n",
       "      <td>Cartier wristwatch</td>\n",
       "      <td>3 day auction</td>\n",
       "    </tr>\n",
       "  </tbody>\n",
       "</table>\n",
       "</div>"
      ],
      "text/plain": [
       "    auctionid     bid   bidtime                     bidder  bidderrate  \\\n",
       "0  1638893549  175.00  2.230949               schadenfreud         0.0   \n",
       "1  1638893549  100.00  2.600116                      chuik         0.0   \n",
       "2  1638893549  120.00  2.600810                 kiwisstuff         2.0   \n",
       "3  1638893549  150.00  2.601076                 kiwisstuff         2.0   \n",
       "4  1638893549  177.50  2.909826  eli.flint@flightsafety.co         4.0   \n",
       "5  1639453840    1.00  0.355856                   bfalconb         2.0   \n",
       "6  1639453840    1.25  0.484757                      sbord         1.0   \n",
       "7  1639453840    1.50  0.492639                   bfalconb         2.0   \n",
       "8  1639453840   25.00  0.494630                      sbord         1.0   \n",
       "9  1639453840    2.00  0.511169                   bfalconb         2.0   \n",
       "\n",
       "   openbid  price                item   auction_type  \n",
       "0     99.0  177.5  Cartier wristwatch  3 day auction  \n",
       "1     99.0  177.5  Cartier wristwatch  3 day auction  \n",
       "2     99.0  177.5  Cartier wristwatch  3 day auction  \n",
       "3     99.0  177.5  Cartier wristwatch  3 day auction  \n",
       "4     99.0  177.5  Cartier wristwatch  3 day auction  \n",
       "5      1.0  355.0  Cartier wristwatch  3 day auction  \n",
       "6      1.0  355.0  Cartier wristwatch  3 day auction  \n",
       "7      1.0  355.0  Cartier wristwatch  3 day auction  \n",
       "8      1.0  355.0  Cartier wristwatch  3 day auction  \n",
       "9      1.0  355.0  Cartier wristwatch  3 day auction  "
      ]
     },
     "execution_count": 4,
     "metadata": {},
     "output_type": "execute_result"
    }
   ],
   "source": [
    "# path='https://raw.githubusercontent.com/pelajarbodoh/LatihanOnlineRetail/master/auction.csv'\n",
    "\n",
    "\n",
    "df = pd.read_csv(r'E:\\Fresh Graduate Academy\\code\\dataset\\auction.csv')\n",
    "df.head(10)"
   ]
  },
  {
   "cell_type": "markdown",
   "metadata": {},
   "source": [
    "## 1. Analyzing Individual Feature Patterns using Visualization\n",
    "\n",
    "untuk melakukan visualisasi fitur maka dibutuhkan library matplotlib dan seaborn dari python package"
   ]
  },
  {
   "cell_type": "code",
   "execution_count": 5,
   "metadata": {},
   "outputs": [],
   "source": [
    "import matplotlib.pyplot as plt\n",
    "import seaborn as sns\n",
    "%matplotlib inline "
   ]
  },
  {
   "cell_type": "markdown",
   "metadata": {},
   "source": [
    "untuk mengetahui teknik visualisasi yang tepat terlebih dahulu diperlukan pemahaman terkait dengan tipe data dari masing masing attribute atau fitur dalam dataset"
   ]
  },
  {
   "cell_type": "code",
   "execution_count": 7,
   "metadata": {},
   "outputs": [
    {
     "data": {
      "text/plain": [
       "auctionid         int64\n",
       "bid             float64\n",
       "bidtime         float64\n",
       "bidder           object\n",
       "bidderrate      float64\n",
       "openbid         float64\n",
       "price           float64\n",
       "item             object\n",
       "auction_type     object\n",
       "dtype: object"
      ]
     },
     "execution_count": 7,
     "metadata": {},
     "output_type": "execute_result"
    }
   ],
   "source": [
    "df.dtypes"
   ]
  },
  {
   "cell_type": "markdown",
   "metadata": {},
   "source": [
    "kemudian untuk attribute yang memiliki tipe data float atau integer kita dapat melakukan perhitungan korelasi dengan menggunakan method corr()"
   ]
  },
  {
   "cell_type": "code",
   "execution_count": 9,
   "metadata": {},
   "outputs": [
    {
     "data": {
      "text/html": [
       "<div>\n",
       "<style scoped>\n",
       "    .dataframe tbody tr th:only-of-type {\n",
       "        vertical-align: middle;\n",
       "    }\n",
       "\n",
       "    .dataframe tbody tr th {\n",
       "        vertical-align: top;\n",
       "    }\n",
       "\n",
       "    .dataframe thead th {\n",
       "        text-align: right;\n",
       "    }\n",
       "</style>\n",
       "<table border=\"1\" class=\"dataframe\">\n",
       "  <thead>\n",
       "    <tr style=\"text-align: right;\">\n",
       "      <th></th>\n",
       "      <th>auctionid</th>\n",
       "      <th>bid</th>\n",
       "      <th>bidtime</th>\n",
       "      <th>bidderrate</th>\n",
       "      <th>openbid</th>\n",
       "      <th>price</th>\n",
       "    </tr>\n",
       "  </thead>\n",
       "  <tbody>\n",
       "    <tr>\n",
       "      <th>auctionid</th>\n",
       "      <td>1.000000</td>\n",
       "      <td>-0.321241</td>\n",
       "      <td>0.105107</td>\n",
       "      <td>-0.006708</td>\n",
       "      <td>-0.147995</td>\n",
       "      <td>-0.379600</td>\n",
       "    </tr>\n",
       "    <tr>\n",
       "      <th>bid</th>\n",
       "      <td>-0.321241</td>\n",
       "      <td>1.000000</td>\n",
       "      <td>0.132494</td>\n",
       "      <td>-0.016641</td>\n",
       "      <td>0.609979</td>\n",
       "      <td>0.858311</td>\n",
       "    </tr>\n",
       "    <tr>\n",
       "      <th>bidtime</th>\n",
       "      <td>0.105107</td>\n",
       "      <td>0.132494</td>\n",
       "      <td>1.000000</td>\n",
       "      <td>-0.031590</td>\n",
       "      <td>0.054780</td>\n",
       "      <td>-0.090308</td>\n",
       "    </tr>\n",
       "    <tr>\n",
       "      <th>bidderrate</th>\n",
       "      <td>-0.006708</td>\n",
       "      <td>-0.016641</td>\n",
       "      <td>-0.031590</td>\n",
       "      <td>1.000000</td>\n",
       "      <td>-0.001964</td>\n",
       "      <td>-0.015810</td>\n",
       "    </tr>\n",
       "    <tr>\n",
       "      <th>openbid</th>\n",
       "      <td>-0.147995</td>\n",
       "      <td>0.609979</td>\n",
       "      <td>0.054780</td>\n",
       "      <td>-0.001964</td>\n",
       "      <td>1.000000</td>\n",
       "      <td>0.495343</td>\n",
       "    </tr>\n",
       "    <tr>\n",
       "      <th>price</th>\n",
       "      <td>-0.379600</td>\n",
       "      <td>0.858311</td>\n",
       "      <td>-0.090308</td>\n",
       "      <td>-0.015810</td>\n",
       "      <td>0.495343</td>\n",
       "      <td>1.000000</td>\n",
       "    </tr>\n",
       "  </tbody>\n",
       "</table>\n",
       "</div>"
      ],
      "text/plain": [
       "            auctionid       bid   bidtime  bidderrate   openbid     price\n",
       "auctionid    1.000000 -0.321241  0.105107   -0.006708 -0.147995 -0.379600\n",
       "bid         -0.321241  1.000000  0.132494   -0.016641  0.609979  0.858311\n",
       "bidtime      0.105107  0.132494  1.000000   -0.031590  0.054780 -0.090308\n",
       "bidderrate  -0.006708 -0.016641 -0.031590    1.000000 -0.001964 -0.015810\n",
       "openbid     -0.147995  0.609979  0.054780   -0.001964  1.000000  0.495343\n",
       "price       -0.379600  0.858311 -0.090308   -0.015810  0.495343  1.000000"
      ]
     },
     "execution_count": 9,
     "metadata": {},
     "output_type": "execute_result"
    }
   ],
   "source": [
    "df.corr()"
   ]
  },
  {
   "cell_type": "markdown",
   "metadata": {},
   "source": [
    "kemudian kita juga dapat melakukan perhitungan korelasi antar beberapa attribute data"
   ]
  },
  {
   "cell_type": "code",
   "execution_count": 11,
   "metadata": {
    "scrolled": true
   },
   "outputs": [
    {
     "data": {
      "text/html": [
       "<div>\n",
       "<style scoped>\n",
       "    .dataframe tbody tr th:only-of-type {\n",
       "        vertical-align: middle;\n",
       "    }\n",
       "\n",
       "    .dataframe tbody tr th {\n",
       "        vertical-align: top;\n",
       "    }\n",
       "\n",
       "    .dataframe thead th {\n",
       "        text-align: right;\n",
       "    }\n",
       "</style>\n",
       "<table border=\"1\" class=\"dataframe\">\n",
       "  <thead>\n",
       "    <tr style=\"text-align: right;\">\n",
       "      <th></th>\n",
       "      <th>bid</th>\n",
       "      <th>bidderrate</th>\n",
       "      <th>price</th>\n",
       "    </tr>\n",
       "  </thead>\n",
       "  <tbody>\n",
       "    <tr>\n",
       "      <th>bid</th>\n",
       "      <td>1.000000</td>\n",
       "      <td>-0.016641</td>\n",
       "      <td>0.858311</td>\n",
       "    </tr>\n",
       "    <tr>\n",
       "      <th>bidderrate</th>\n",
       "      <td>-0.016641</td>\n",
       "      <td>1.000000</td>\n",
       "      <td>-0.015810</td>\n",
       "    </tr>\n",
       "    <tr>\n",
       "      <th>price</th>\n",
       "      <td>0.858311</td>\n",
       "      <td>-0.015810</td>\n",
       "      <td>1.000000</td>\n",
       "    </tr>\n",
       "  </tbody>\n",
       "</table>\n",
       "</div>"
      ],
      "text/plain": [
       "                 bid  bidderrate     price\n",
       "bid         1.000000   -0.016641  0.858311\n",
       "bidderrate -0.016641    1.000000 -0.015810\n",
       "price       0.858311   -0.015810  1.000000"
      ]
     },
     "execution_count": 11,
     "metadata": {},
     "output_type": "execute_result"
    }
   ],
   "source": [
    "df[['bid', 'bidderrate', 'price']].corr()"
   ]
  },
  {
   "cell_type": "markdown",
   "metadata": {},
   "source": [
    "### Continuous numerical variables\n",
    "\n",
    "variabel kontinyu merupakan variabel yang memiliki value di dalam suatu range. tipe data variabel kontinyu dapat berupa integer atau float\n",
    "\n",
    "cara terbaik untuk melakukan visualisasi untuk tipe data seperti ini adalah dengan menggunakan scatterplots dengan melakukan fit data berdasarkan garis"
   ]
  },
  {
   "cell_type": "markdown",
   "metadata": {},
   "source": [
    "**Positive linear relationship**\n",
    "\n",
    "berikut merupakan contoh pemetaan variabel \"bid\" dengan variabel \"price\""
   ]
  },
  {
   "cell_type": "code",
   "execution_count": 13,
   "metadata": {},
   "outputs": [
    {
     "data": {
      "text/plain": [
       "(0, 7139.180312123824)"
      ]
     },
     "execution_count": 13,
     "metadata": {},
     "output_type": "execute_result"
    },
    {
     "data": {
      "image/png": "[encoded data removed]",
      "text/plain": [
       "<Figure size 432x288 with 1 Axes>"
      ]
     },
     "metadata": {
      "needs_background": "light"
     },
     "output_type": "display_data"
    }
   ],
   "source": [
    "# Engine size as potential predictor variable of price\n",
    "sns.regplot(x=\"bid\", y=\"price\", data=df)\n",
    "plt.ylim(0,)"
   ]
  },
  {
   "cell_type": "markdown",
   "metadata": {},
   "source": [
    "dengan meningkatnya bid atau nilai tawaran barang, nilai harga barang juga meningkat\n",
    "\n",
    "variabel bid dapat digunakan sebagai variabel predictor yang baik untuk variabel price dikarenakan garis regresi yang terbentuk hampir membentuk garis diagonal yang sempurna\n",
    "\n",
    "kemudian kira juga dapat melakukan perhitungan correlasi antara \"bid\" dengan \"price\""
   ]
  },
  {
   "cell_type": "code",
   "execution_count": 14,
   "metadata": {},
   "outputs": [
    {
     "data": {
      "text/html": [
       "<div>\n",
       "<style scoped>\n",
       "    .dataframe tbody tr th:only-of-type {\n",
       "        vertical-align: middle;\n",
       "    }\n",
       "\n",
       "    .dataframe tbody tr th {\n",
       "        vertical-align: top;\n",
       "    }\n",
       "\n",
       "    .dataframe thead th {\n",
       "        text-align: right;\n",
       "    }\n",
       "</style>\n",
       "<table border=\"1\" class=\"dataframe\">\n",
       "  <thead>\n",
       "    <tr style=\"text-align: right;\">\n",
       "      <th></th>\n",
       "      <th>bid</th>\n",
       "      <th>price</th>\n",
       "    </tr>\n",
       "  </thead>\n",
       "  <tbody>\n",
       "    <tr>\n",
       "      <th>bid</th>\n",
       "      <td>1.000000</td>\n",
       "      <td>0.858311</td>\n",
       "    </tr>\n",
       "    <tr>\n",
       "      <th>price</th>\n",
       "      <td>0.858311</td>\n",
       "      <td>1.000000</td>\n",
       "    </tr>\n",
       "  </tbody>\n",
       "</table>\n",
       "</div>"
      ],
      "text/plain": [
       "            bid     price\n",
       "bid    1.000000  0.858311\n",
       "price  0.858311  1.000000"
      ]
     },
     "execution_count": 14,
     "metadata": {},
     "output_type": "execute_result"
    }
   ],
   "source": [
    "df[[\"bid\", \"price\"]].corr()"
   ]
  },
  {
   "cell_type": "markdown",
   "metadata": {},
   "source": [
    "berdasarkan sistem kita memperoleh nilai sekitar **0.85**"
   ]
  },
  {
   "cell_type": "code",
   "execution_count": 16,
   "metadata": {},
   "outputs": [
    {
     "data": {
      "text/plain": [
       "(0, 8017.181501853655)"
      ]
     },
     "execution_count": 16,
     "metadata": {},
     "output_type": "execute_result"
    },
    {
     "data": {
      "image/png": "[encoded data removed]",
      "text/plain": [
       "<Figure size 432x288 with 1 Axes>"
      ]
     },
     "metadata": {
      "needs_background": "light"
     },
     "output_type": "display_data"
    }
   ],
   "source": [
    "# Engine size as potential predictor variable of price\n",
    "sns.regplot(x=\"openbid\", y=\"price\", data=df)\n",
    "plt.ylim(0,)"
   ]
  },
  {
   "cell_type": "code",
   "execution_count": 17,
   "metadata": {
    "scrolled": true
   },
   "outputs": [
    {
     "data": {
      "text/html": [
       "<div>\n",
       "<style scoped>\n",
       "    .dataframe tbody tr th:only-of-type {\n",
       "        vertical-align: middle;\n",
       "    }\n",
       "\n",
       "    .dataframe tbody tr th {\n",
       "        vertical-align: top;\n",
       "    }\n",
       "\n",
       "    .dataframe thead th {\n",
       "        text-align: right;\n",
       "    }\n",
       "</style>\n",
       "<table border=\"1\" class=\"dataframe\">\n",
       "  <thead>\n",
       "    <tr style=\"text-align: right;\">\n",
       "      <th></th>\n",
       "      <th>openbid</th>\n",
       "      <th>price</th>\n",
       "    </tr>\n",
       "  </thead>\n",
       "  <tbody>\n",
       "    <tr>\n",
       "      <th>openbid</th>\n",
       "      <td>1.000000</td>\n",
       "      <td>0.495343</td>\n",
       "    </tr>\n",
       "    <tr>\n",
       "      <th>price</th>\n",
       "      <td>0.495343</td>\n",
       "      <td>1.000000</td>\n",
       "    </tr>\n",
       "  </tbody>\n",
       "</table>\n",
       "</div>"
      ],
      "text/plain": [
       "          openbid     price\n",
       "openbid  1.000000  0.495343\n",
       "price    0.495343  1.000000"
      ]
     },
     "execution_count": 17,
     "metadata": {},
     "output_type": "execute_result"
    }
   ],
   "source": [
    "df[[\"openbid\", \"price\"]].corr()"
   ]
  },
  {
   "cell_type": "markdown",
   "metadata": {},
   "source": [
    "variabel openbid juga dapat digunakan untuk menjadi predictor bagi variabel harga akan tetapi nilai correlasi nya tidak sebaik dengan variabel bid"
   ]
  },
  {
   "cell_type": "markdown",
   "metadata": {},
   "source": [
    "**Negative linear relationship**\n",
    "\n",
    "selain itu kita juga dapat mencoba untuk menemukan variable yang membuat plot negatif atau jadi negative predictor bagi variable price\n"
   ]
  },
  {
   "cell_type": "code",
   "execution_count": 18,
   "metadata": {},
   "outputs": [
    {
     "data": {
      "text/plain": [
       "(0, 5669.619654780368)"
      ]
     },
     "execution_count": 18,
     "metadata": {},
     "output_type": "execute_result"
    },
    {
     "data": {
      "image/png": "[encoded data removed]",
      "text/plain": [
       "<Figure size 432x288 with 1 Axes>"
      ]
     },
     "metadata": {
      "needs_background": "light"
     },
     "output_type": "display_data"
    }
   ],
   "source": [
    "# Engine size as potential predictor variable of price\n",
    "sns.regplot(x=\"bidderrate\", y=\"price\", data=df)\n",
    "plt.ylim(0,)"
   ]
  },
  {
   "cell_type": "code",
   "execution_count": 21,
   "metadata": {
    "scrolled": false
   },
   "outputs": [
    {
     "data": {
      "text/html": [
       "<div>\n",
       "<style scoped>\n",
       "    .dataframe tbody tr th:only-of-type {\n",
       "        vertical-align: middle;\n",
       "    }\n",
       "\n",
       "    .dataframe tbody tr th {\n",
       "        vertical-align: top;\n",
       "    }\n",
       "\n",
       "    .dataframe thead th {\n",
       "        text-align: right;\n",
       "    }\n",
       "</style>\n",
       "<table border=\"1\" class=\"dataframe\">\n",
       "  <thead>\n",
       "    <tr style=\"text-align: right;\">\n",
       "      <th></th>\n",
       "      <th>bidderrate</th>\n",
       "      <th>price</th>\n",
       "    </tr>\n",
       "  </thead>\n",
       "  <tbody>\n",
       "    <tr>\n",
       "      <th>bidderrate</th>\n",
       "      <td>1.00000</td>\n",
       "      <td>-0.01581</td>\n",
       "    </tr>\n",
       "    <tr>\n",
       "      <th>price</th>\n",
       "      <td>-0.01581</td>\n",
       "      <td>1.00000</td>\n",
       "    </tr>\n",
       "  </tbody>\n",
       "</table>\n",
       "</div>"
      ],
      "text/plain": [
       "            bidderrate    price\n",
       "bidderrate     1.00000 -0.01581\n",
       "price         -0.01581  1.00000"
      ]
     },
     "execution_count": 21,
     "metadata": {},
     "output_type": "execute_result"
    }
   ],
   "source": [
    "df[[\"bidderrate\", \"price\"]].corr()"
   ]
  },
  {
   "cell_type": "markdown",
   "metadata": {},
   "source": [
    "berdasarkan percobaan semakin tinggi nilai bidderrate maka harga dari barang menjadi rendah. hal ini menandakan inverse atau hubungan negatif antar dua variabel\n",
    "\n",
    "sehingga variabel bidderrate dapat digunakan sebagai predictor yang potensial bagi variabel price\n",
    "\n",
    "berdasarkan perhitungan korelasi antara variabel bidderrate dan variabel price diperoleh nilai korelasi sebesar **-0.015**\n"
   ]
  },
  {
   "cell_type": "markdown",
   "metadata": {},
   "source": [
    "**Weak Linear Relationship**\n",
    "\n",
    "saya juga mencoba melakukan eksperimen untuk variabel \"bidtime\" dan variabel \"price\""
   ]
  },
  {
   "cell_type": "code",
   "execution_count": 20,
   "metadata": {},
   "outputs": [
    {
     "data": {
      "text/plain": [
       "(0, 5669.25933049424)"
      ]
     },
     "execution_count": 20,
     "metadata": {},
     "output_type": "execute_result"
    },
    {
     "data": {
      "image/png": "[encoded data removed]",
      "text/plain": [
       "<Figure size 432x288 with 1 Axes>"
      ]
     },
     "metadata": {
      "needs_background": "light"
     },
     "output_type": "display_data"
    }
   ],
   "source": [
    "# Engine size as potential predictor variable of price\n",
    "sns.regplot(x=\"bidtime\", y=\"price\", data=df)\n",
    "plt.ylim(0,)"
   ]
  },
  {
   "cell_type": "code",
   "execution_count": null,
   "metadata": {},
   "outputs": [],
   "source": [
    "# Engine size as potential predictor variable of price\n",
    "sns.regplot(x=\"bidtime\", y=\"price\", data=df)\n",
    "plt.ylim(0,)"
   ]
  },
  {
   "cell_type": "code",
   "execution_count": 22,
   "metadata": {},
   "outputs": [
    {
     "data": {
      "text/html": [
       "<div>\n",
       "<style scoped>\n",
       "    .dataframe tbody tr th:only-of-type {\n",
       "        vertical-align: middle;\n",
       "    }\n",
       "\n",
       "    .dataframe tbody tr th {\n",
       "        vertical-align: top;\n",
       "    }\n",
       "\n",
       "    .dataframe thead th {\n",
       "        text-align: right;\n",
       "    }\n",
       "</style>\n",
       "<table border=\"1\" class=\"dataframe\">\n",
       "  <thead>\n",
       "    <tr style=\"text-align: right;\">\n",
       "      <th></th>\n",
       "      <th>bidtime</th>\n",
       "      <th>price</th>\n",
       "    </tr>\n",
       "  </thead>\n",
       "  <tbody>\n",
       "    <tr>\n",
       "      <th>bidtime</th>\n",
       "      <td>1.000000</td>\n",
       "      <td>-0.090308</td>\n",
       "    </tr>\n",
       "    <tr>\n",
       "      <th>price</th>\n",
       "      <td>-0.090308</td>\n",
       "      <td>1.000000</td>\n",
       "    </tr>\n",
       "  </tbody>\n",
       "</table>\n",
       "</div>"
      ],
      "text/plain": [
       "          bidtime     price\n",
       "bidtime  1.000000 -0.090308\n",
       "price   -0.090308  1.000000"
      ]
     },
     "execution_count": 22,
     "metadata": {},
     "output_type": "execute_result"
    }
   ],
   "source": [
    "df[[\"bidtime\", \"price\"]].corr()"
   ]
  },
  {
   "cell_type": "markdown",
   "metadata": {},
   "source": [
    "variabel bidtime sepertinya bukan predictor yang baik untuk variabel price dikarenakan kurva regresi yang terbentuk hampir horizontal\n",
    "selain itu data hasil plot juga beragam ada banyak yang jauh dari garis plot, sehingga variabel ini merupakan variabel yang tidak reliabel\n",
    "\n",
    "berdasarkan percobaan perhitungan korelasi antara variabel \"bidtime\" dengan \"price\" diperoleh hasil sebesar -0.101"
   ]
  },
  {
   "cell_type": "markdown",
   "metadata": {},
   "source": [
    "### Categorical variabel\n",
    "\n",
    "variabel ini dapat berperan sebagai variabel yang dapat mendeskripsikan ciri dari suatu unit dan terpilih dari kategori yang cenderung sedikit/kecil\n",
    "\n",
    "categorical variabel dapat memiliki tipe data \"object\" atau \"int64\". teknik yang baik untuk memvisualisasi data categorical adalah dengan menggunakan boxplots\n",
    "\n",
    "mari kita tinjau hubungan antara variabel **\"item\"** dengan variabel **\"harga\"**"
   ]
  },
  {
   "cell_type": "code",
   "execution_count": 23,
   "metadata": {},
   "outputs": [
    {
     "data": {
      "text/plain": [
       "<matplotlib.axes._subplots.AxesSubplot at 0x1db76522fd0>"
      ]
     },
     "execution_count": 23,
     "metadata": {},
     "output_type": "execute_result"
    },
    {
     "data": {
      "image/png": "[encoded data removed]",
      "text/plain": [
       "<Figure size 432x288 with 1 Axes>"
      ]
     },
     "metadata": {
      "needs_background": "light"
     },
     "output_type": "display_data"
    }
   ],
   "source": [
    "sns.boxplot(x=\"item\", y=\"price\", data=df)"
   ]
  },
  {
   "cell_type": "markdown",
   "metadata": {},
   "source": [
    "dapat dilihat distribusi harga untuk setiap item yang dilelang ada sedikit overlap terutama pada item Palm Pilot dan Xbox Game console\n",
    "akan tetapi karena nilai overlap nya tidak begitu besar sehingga variabel **\"item\"** dapat menjadi potential good predictor untuk variabel **price**"
   ]
  },
  {
   "cell_type": "markdown",
   "metadata": {},
   "source": [
    "saya juga mencoba melakukan ploting antara variabel **\"auction type\"** serta **\"price\"** akan tetapi hasil plotting yang diperoleh tidak terlalu bagus"
   ]
  },
  {
   "cell_type": "code",
   "execution_count": 24,
   "metadata": {},
   "outputs": [
    {
     "data": {
      "text/plain": [
       "<matplotlib.axes._subplots.AxesSubplot at 0x1db765bcda0>"
      ]
     },
     "execution_count": 24,
     "metadata": {},
     "output_type": "execute_result"
    },
    {
     "data": {
      "image/png": "[encoded data removed]",
      "text/plain": [
       "<Figure size 432x288 with 1 Axes>"
      ]
     },
     "metadata": {
      "needs_background": "light"
     },
     "output_type": "display_data"
    }
   ],
   "source": [
    "sns.boxplot(x=\"auction_type\", y=\"price\", data=df)"
   ]
  },
  {
   "cell_type": "markdown",
   "metadata": {},
   "source": [
    "## 3. Descriptive Statistical Analysis\n",
    "\n",
    "kemudian kita juga dapat mencoba untuk mendeksripsikan variabel dengan pendekatan **statistik**\n",
    "\n",
    "yang akan coba diimplementasikan adalah\n",
    "This will show:\n",
    "- jumalh variabel\n",
    "- mean\n",
    "- standard deviation (std) \n",
    "- minimum value\n",
    "- IQR (Interquartile Range: 25%, 50% and 75%)\n",
    "- maximum value\n",
    "\n"
   ]
  },
  {
   "cell_type": "markdown",
   "metadata": {},
   "source": [
    "kita dapat mengimpelemtasikan teknik tersebut dengan method **decribe**"
   ]
  },
  {
   "cell_type": "code",
   "execution_count": 27,
   "metadata": {},
   "outputs": [
    {
     "data": {
      "text/html": [
       "<div>\n",
       "<style scoped>\n",
       "    .dataframe tbody tr th:only-of-type {\n",
       "        vertical-align: middle;\n",
       "    }\n",
       "\n",
       "    .dataframe tbody tr th {\n",
       "        vertical-align: top;\n",
       "    }\n",
       "\n",
       "    .dataframe thead th {\n",
       "        text-align: right;\n",
       "    }\n",
       "</style>\n",
       "<table border=\"1\" class=\"dataframe\">\n",
       "  <thead>\n",
       "    <tr style=\"text-align: right;\">\n",
       "      <th></th>\n",
       "      <th>auctionid</th>\n",
       "      <th>bid</th>\n",
       "      <th>bidtime</th>\n",
       "      <th>bidderrate</th>\n",
       "      <th>openbid</th>\n",
       "      <th>price</th>\n",
       "    </tr>\n",
       "  </thead>\n",
       "  <tbody>\n",
       "    <tr>\n",
       "      <th>count</th>\n",
       "      <td>1.068100e+04</td>\n",
       "      <td>10681.000000</td>\n",
       "      <td>10681.000000</td>\n",
       "      <td>10670.000000</td>\n",
       "      <td>10681.000000</td>\n",
       "      <td>10681.000000</td>\n",
       "    </tr>\n",
       "    <tr>\n",
       "      <th>mean</th>\n",
       "      <td>4.136148e+09</td>\n",
       "      <td>207.586109</td>\n",
       "      <td>3.979628</td>\n",
       "      <td>31.936739</td>\n",
       "      <td>52.246256</td>\n",
       "      <td>335.043589</td>\n",
       "    </tr>\n",
       "    <tr>\n",
       "      <th>std</th>\n",
       "      <td>2.489918e+09</td>\n",
       "      <td>323.037396</td>\n",
       "      <td>2.353386</td>\n",
       "      <td>120.594074</td>\n",
       "      <td>168.453245</td>\n",
       "      <td>433.566009</td>\n",
       "    </tr>\n",
       "    <tr>\n",
       "      <th>min</th>\n",
       "      <td>1.638844e+09</td>\n",
       "      <td>0.010000</td>\n",
       "      <td>0.000567</td>\n",
       "      <td>-4.000000</td>\n",
       "      <td>0.010000</td>\n",
       "      <td>26.000000</td>\n",
       "    </tr>\n",
       "    <tr>\n",
       "      <th>25%</th>\n",
       "      <td>3.015329e+09</td>\n",
       "      <td>72.000000</td>\n",
       "      <td>1.949931</td>\n",
       "      <td>1.000000</td>\n",
       "      <td>1.000000</td>\n",
       "      <td>186.510000</td>\n",
       "    </tr>\n",
       "    <tr>\n",
       "      <th>50%</th>\n",
       "      <td>3.020526e+09</td>\n",
       "      <td>140.000000</td>\n",
       "      <td>4.140833</td>\n",
       "      <td>5.000000</td>\n",
       "      <td>4.990000</td>\n",
       "      <td>228.490000</td>\n",
       "    </tr>\n",
       "    <tr>\n",
       "      <th>75%</th>\n",
       "      <td>8.212136e+09</td>\n",
       "      <td>210.000000</td>\n",
       "      <td>6.448060</td>\n",
       "      <td>21.000000</td>\n",
       "      <td>50.000000</td>\n",
       "      <td>255.000000</td>\n",
       "    </tr>\n",
       "    <tr>\n",
       "      <th>max</th>\n",
       "      <td>8.215611e+09</td>\n",
       "      <td>5400.000000</td>\n",
       "      <td>6.999990</td>\n",
       "      <td>3140.000000</td>\n",
       "      <td>5000.000000</td>\n",
       "      <td>5400.000000</td>\n",
       "    </tr>\n",
       "  </tbody>\n",
       "</table>\n",
       "</div>"
      ],
      "text/plain": [
       "          auctionid           bid       bidtime    bidderrate       openbid  \\\n",
       "count  1.068100e+04  10681.000000  10681.000000  10670.000000  10681.000000   \n",
       "mean   4.136148e+09    207.586109      3.979628     31.936739     52.246256   \n",
       "std    2.489918e+09    323.037396      2.353386    120.594074    168.453245   \n",
       "min    1.638844e+09      0.010000      0.000567     -4.000000      0.010000   \n",
       "25%    3.015329e+09     72.000000      1.949931      1.000000      1.000000   \n",
       "50%    3.020526e+09    140.000000      4.140833      5.000000      4.990000   \n",
       "75%    8.212136e+09    210.000000      6.448060     21.000000     50.000000   \n",
       "max    8.215611e+09   5400.000000      6.999990   3140.000000   5000.000000   \n",
       "\n",
       "              price  \n",
       "count  10681.000000  \n",
       "mean     335.043589  \n",
       "std      433.566009  \n",
       "min       26.000000  \n",
       "25%      186.510000  \n",
       "50%      228.490000  \n",
       "75%      255.000000  \n",
       "max     5400.000000  "
      ]
     },
     "execution_count": 27,
     "metadata": {},
     "output_type": "execute_result"
    }
   ],
   "source": [
    "df.describe()"
   ]
  },
  {
   "cell_type": "markdown",
   "metadata": {},
   "source": [
    "pengaturan default dari methode describe akan melewatkan perhitugan variabel dengan tipe object.\n",
    "\n",
    "kita dapat melakukan perhitungan method describe terhadap tipe data **\"object\"** dengan potongan kode berikut"
   ]
  },
  {
   "cell_type": "code",
   "execution_count": 28,
   "metadata": {},
   "outputs": [
    {
     "data": {
      "text/html": [
       "<div>\n",
       "<style scoped>\n",
       "    .dataframe tbody tr th:only-of-type {\n",
       "        vertical-align: middle;\n",
       "    }\n",
       "\n",
       "    .dataframe tbody tr th {\n",
       "        vertical-align: top;\n",
       "    }\n",
       "\n",
       "    .dataframe thead th {\n",
       "        text-align: right;\n",
       "    }\n",
       "</style>\n",
       "<table border=\"1\" class=\"dataframe\">\n",
       "  <thead>\n",
       "    <tr style=\"text-align: right;\">\n",
       "      <th></th>\n",
       "      <th>bidder</th>\n",
       "      <th>item</th>\n",
       "      <th>auction_type</th>\n",
       "    </tr>\n",
       "  </thead>\n",
       "  <tbody>\n",
       "    <tr>\n",
       "      <th>count</th>\n",
       "      <td>10665</td>\n",
       "      <td>10681</td>\n",
       "      <td>10681</td>\n",
       "    </tr>\n",
       "    <tr>\n",
       "      <th>unique</th>\n",
       "      <td>3387</td>\n",
       "      <td>3</td>\n",
       "      <td>3</td>\n",
       "    </tr>\n",
       "    <tr>\n",
       "      <th>top</th>\n",
       "      <td>warrencheryl</td>\n",
       "      <td>Palm Pilot M515 PDA</td>\n",
       "      <td>7 day auction</td>\n",
       "    </tr>\n",
       "    <tr>\n",
       "      <th>freq</th>\n",
       "      <td>45</td>\n",
       "      <td>5917</td>\n",
       "      <td>7041</td>\n",
       "    </tr>\n",
       "  </tbody>\n",
       "</table>\n",
       "</div>"
      ],
      "text/plain": [
       "              bidder                 item   auction_type\n",
       "count          10665                10681          10681\n",
       "unique          3387                    3              3\n",
       "top     warrencheryl  Palm Pilot M515 PDA  7 day auction\n",
       "freq              45                 5917           7041"
      ]
     },
     "execution_count": 28,
     "metadata": {},
     "output_type": "execute_result"
    }
   ],
   "source": [
    "df.describe(include=['object'])"
   ]
  },
  {
   "cell_type": "markdown",
   "metadata": {},
   "source": [
    "### Value count\n",
    "\n",
    "method value count merupakan teknik yang dapat digunakan untuk menghitung berapa banyak **unit** yang untik dalam suatu variabel\n",
    "\n",
    "untuk mengimpelentasikan method tersebut kita dapat menggunakan method **\"value_count\"** dan method tersebut hanya bekerja pada **pandas series** \n"
   ]
  },
  {
   "cell_type": "code",
   "execution_count": 29,
   "metadata": {},
   "outputs": [
    {
     "data": {
      "text/plain": [
       "Palm Pilot M515 PDA    5917\n",
       "Xbox game console      2811\n",
       "Cartier wristwatch     1953\n",
       "Name: item, dtype: int64"
      ]
     },
     "execution_count": 29,
     "metadata": {},
     "output_type": "execute_result"
    }
   ],
   "source": [
    "df['item'].value_counts()"
   ]
  },
  {
   "cell_type": "markdown",
   "metadata": {},
   "source": [
    "kemudian kita dapat mengubah data tersebut kedalam dataframe dengan perintah berikut :"
   ]
  },
  {
   "cell_type": "code",
   "execution_count": 30,
   "metadata": {},
   "outputs": [
    {
     "data": {
      "text/html": [
       "<div>\n",
       "<style scoped>\n",
       "    .dataframe tbody tr th:only-of-type {\n",
       "        vertical-align: middle;\n",
       "    }\n",
       "\n",
       "    .dataframe tbody tr th {\n",
       "        vertical-align: top;\n",
       "    }\n",
       "\n",
       "    .dataframe thead th {\n",
       "        text-align: right;\n",
       "    }\n",
       "</style>\n",
       "<table border=\"1\" class=\"dataframe\">\n",
       "  <thead>\n",
       "    <tr style=\"text-align: right;\">\n",
       "      <th></th>\n",
       "      <th>item</th>\n",
       "    </tr>\n",
       "  </thead>\n",
       "  <tbody>\n",
       "    <tr>\n",
       "      <th>Palm Pilot M515 PDA</th>\n",
       "      <td>5917</td>\n",
       "    </tr>\n",
       "    <tr>\n",
       "      <th>Xbox game console</th>\n",
       "      <td>2811</td>\n",
       "    </tr>\n",
       "    <tr>\n",
       "      <th>Cartier wristwatch</th>\n",
       "      <td>1953</td>\n",
       "    </tr>\n",
       "  </tbody>\n",
       "</table>\n",
       "</div>"
      ],
      "text/plain": [
       "                     item\n",
       "Palm Pilot M515 PDA  5917\n",
       "Xbox game console    2811\n",
       "Cartier wristwatch   1953"
      ]
     },
     "execution_count": 30,
     "metadata": {},
     "output_type": "execute_result"
    }
   ],
   "source": [
    "df['item'].value_counts().to_frame()"
   ]
  },
  {
   "cell_type": "markdown",
   "metadata": {},
   "source": [
    "kemudian lakukan cara tersebut akan tetapi kita akan menyimpan hasilnya pada dataframe baru yaitu \"item_count\""
   ]
  },
  {
   "cell_type": "code",
   "execution_count": 31,
   "metadata": {},
   "outputs": [
    {
     "data": {
      "text/html": [
       "<div>\n",
       "<style scoped>\n",
       "    .dataframe tbody tr th:only-of-type {\n",
       "        vertical-align: middle;\n",
       "    }\n",
       "\n",
       "    .dataframe tbody tr th {\n",
       "        vertical-align: top;\n",
       "    }\n",
       "\n",
       "    .dataframe thead th {\n",
       "        text-align: right;\n",
       "    }\n",
       "</style>\n",
       "<table border=\"1\" class=\"dataframe\">\n",
       "  <thead>\n",
       "    <tr style=\"text-align: right;\">\n",
       "      <th></th>\n",
       "      <th>value_counts</th>\n",
       "    </tr>\n",
       "  </thead>\n",
       "  <tbody>\n",
       "    <tr>\n",
       "      <th>Palm Pilot M515 PDA</th>\n",
       "      <td>5917</td>\n",
       "    </tr>\n",
       "    <tr>\n",
       "      <th>Xbox game console</th>\n",
       "      <td>2811</td>\n",
       "    </tr>\n",
       "    <tr>\n",
       "      <th>Cartier wristwatch</th>\n",
       "      <td>1953</td>\n",
       "    </tr>\n",
       "  </tbody>\n",
       "</table>\n",
       "</div>"
      ],
      "text/plain": [
       "                     value_counts\n",
       "Palm Pilot M515 PDA          5917\n",
       "Xbox game console            2811\n",
       "Cartier wristwatch           1953"
      ]
     },
     "execution_count": 31,
     "metadata": {},
     "output_type": "execute_result"
    }
   ],
   "source": [
    "item_count = df['item'].value_counts().to_frame()\n",
    "item_count.rename(columns={'item': 'value_counts'}, inplace=True)\n",
    "item_count"
   ]
  },
  {
   "cell_type": "markdown",
   "metadata": {},
   "source": [
    "kemudian index tersebut dapat kita rename misalnya menjadi **item**"
   ]
  },
  {
   "cell_type": "code",
   "execution_count": 32,
   "metadata": {},
   "outputs": [
    {
     "data": {
      "text/html": [
       "<div>\n",
       "<style scoped>\n",
       "    .dataframe tbody tr th:only-of-type {\n",
       "        vertical-align: middle;\n",
       "    }\n",
       "\n",
       "    .dataframe tbody tr th {\n",
       "        vertical-align: top;\n",
       "    }\n",
       "\n",
       "    .dataframe thead th {\n",
       "        text-align: right;\n",
       "    }\n",
       "</style>\n",
       "<table border=\"1\" class=\"dataframe\">\n",
       "  <thead>\n",
       "    <tr style=\"text-align: right;\">\n",
       "      <th></th>\n",
       "      <th>value_counts</th>\n",
       "    </tr>\n",
       "    <tr>\n",
       "      <th>item</th>\n",
       "      <th></th>\n",
       "    </tr>\n",
       "  </thead>\n",
       "  <tbody>\n",
       "    <tr>\n",
       "      <th>Palm Pilot M515 PDA</th>\n",
       "      <td>5917</td>\n",
       "    </tr>\n",
       "    <tr>\n",
       "      <th>Xbox game console</th>\n",
       "      <td>2811</td>\n",
       "    </tr>\n",
       "    <tr>\n",
       "      <th>Cartier wristwatch</th>\n",
       "      <td>1953</td>\n",
       "    </tr>\n",
       "  </tbody>\n",
       "</table>\n",
       "</div>"
      ],
      "text/plain": [
       "                     value_counts\n",
       "item                             \n",
       "Palm Pilot M515 PDA          5917\n",
       "Xbox game console            2811\n",
       "Cartier wristwatch           1953"
      ]
     },
     "execution_count": 32,
     "metadata": {},
     "output_type": "execute_result"
    }
   ],
   "source": [
    "item_count.index.name = 'item'\n",
    "item_count"
   ]
  },
  {
   "cell_type": "markdown",
   "metadata": {},
   "source": [
    "kita dapat mengulangi cara tersebut untuk variabel yang lain"
   ]
  },
  {
   "cell_type": "markdown",
   "metadata": {},
   "source": [
    "## 4. Basic of Grouping\n",
    "\n",
    "method **groupby** dapat melakukan grouping data ke kategori yang berbeda\n",
    "\n",
    "data digrouping berdasarkan satu atau beberapa variabel dan analisa akan dilakukan terhadap group secara sendiri sendiri\n",
    "\n",
    "contohnya kita akan coba melakukan **grouping** terhadap variabel **item**. berdasarkan kode kita dapat melihat ada 3 buah kategori yang berbeda dalam variabel **item**"
   ]
  },
  {
   "cell_type": "code",
   "execution_count": 33,
   "metadata": {},
   "outputs": [
    {
     "data": {
      "text/plain": [
       "array(['Cartier wristwatch', 'Palm Pilot M515 PDA', 'Xbox game console'],\n",
       "      dtype=object)"
      ]
     },
     "execution_count": 33,
     "metadata": {},
     "output_type": "execute_result"
    }
   ],
   "source": [
    "df['item'].unique()"
   ]
  },
  {
   "cell_type": "markdown",
   "metadata": {},
   "source": [
    "jika kita ingin mengetahui, secara **rata rata** jenis item apa yang paling berharga\n",
    "\n",
    "maka kita dapat melakukan group dalam variabel **item** dan melakukan perhitungan rata rata\n",
    "\n",
    "misalnya kita akan melakukan grouping antara variabel **item**, **auction_type** dan **price** dan di assign ke variabel **df_group_one**\n"
   ]
  },
  {
   "cell_type": "code",
   "execution_count": 34,
   "metadata": {},
   "outputs": [],
   "source": [
    "df_group_one=df[['item','auction_type','price']]"
   ]
  },
  {
   "cell_type": "markdown",
   "metadata": {},
   "source": [
    "kemudian kita dapat melakukan perhitungan rata rata harga untuk masing masing kategori data yang berbeda"
   ]
  },
  {
   "cell_type": "code",
   "execution_count": 35,
   "metadata": {},
   "outputs": [
    {
     "data": {
      "text/html": [
       "<div>\n",
       "<style scoped>\n",
       "    .dataframe tbody tr th:only-of-type {\n",
       "        vertical-align: middle;\n",
       "    }\n",
       "\n",
       "    .dataframe tbody tr th {\n",
       "        vertical-align: top;\n",
       "    }\n",
       "\n",
       "    .dataframe thead th {\n",
       "        text-align: right;\n",
       "    }\n",
       "</style>\n",
       "<table border=\"1\" class=\"dataframe\">\n",
       "  <thead>\n",
       "    <tr style=\"text-align: right;\">\n",
       "      <th></th>\n",
       "      <th>item</th>\n",
       "      <th>price</th>\n",
       "    </tr>\n",
       "  </thead>\n",
       "  <tbody>\n",
       "    <tr>\n",
       "      <th>0</th>\n",
       "      <td>Cartier wristwatch</td>\n",
       "      <td>925.047906</td>\n",
       "    </tr>\n",
       "    <tr>\n",
       "      <th>1</th>\n",
       "      <td>Palm Pilot M515 PDA</td>\n",
       "      <td>231.130267</td>\n",
       "    </tr>\n",
       "    <tr>\n",
       "      <th>2</th>\n",
       "      <td>Xbox game console</td>\n",
       "      <td>143.857780</td>\n",
       "    </tr>\n",
       "  </tbody>\n",
       "</table>\n",
       "</div>"
      ],
      "text/plain": [
       "                  item       price\n",
       "0   Cartier wristwatch  925.047906\n",
       "1  Palm Pilot M515 PDA  231.130267\n",
       "2    Xbox game console  143.857780"
      ]
     },
     "execution_count": 35,
     "metadata": {},
     "output_type": "execute_result"
    }
   ],
   "source": [
    "# grouping results\n",
    "\n",
    "df_group_one=df_group_one.groupby(['item'],as_index= False).mean()\n",
    "df_group_one"
   ]
  },
  {
   "cell_type": "markdown",
   "metadata": {},
   "source": [
    "berdasarkan data yang kita miliki item **Cartier Wristwatch** secara **rata rata** adalah yang paling mahal dan item **palm pilot** serta **xbox** hampir memiliki harga yang sama\n",
    "\n",
    "kita juga dapat melakukan grouping antar variabel yang berbeda\n",
    "misalnya kita ingin melakukan grouping variabel **item** serta **auction_type** secara langsung. maka akan terbentuk dataframe group yang unik antar kombinasi item tersebut"
   ]
  },
  {
   "cell_type": "code",
   "execution_count": 36,
   "metadata": {},
   "outputs": [
    {
     "data": {
      "text/html": [
       "<div>\n",
       "<style scoped>\n",
       "    .dataframe tbody tr th:only-of-type {\n",
       "        vertical-align: middle;\n",
       "    }\n",
       "\n",
       "    .dataframe tbody tr th {\n",
       "        vertical-align: top;\n",
       "    }\n",
       "\n",
       "    .dataframe thead th {\n",
       "        text-align: right;\n",
       "    }\n",
       "</style>\n",
       "<table border=\"1\" class=\"dataframe\">\n",
       "  <thead>\n",
       "    <tr style=\"text-align: right;\">\n",
       "      <th></th>\n",
       "      <th>item</th>\n",
       "      <th>auction_type</th>\n",
       "      <th>price</th>\n",
       "    </tr>\n",
       "  </thead>\n",
       "  <tbody>\n",
       "    <tr>\n",
       "      <th>0</th>\n",
       "      <td>Cartier wristwatch</td>\n",
       "      <td>3 day auction</td>\n",
       "      <td>678.779800</td>\n",
       "    </tr>\n",
       "    <tr>\n",
       "      <th>1</th>\n",
       "      <td>Cartier wristwatch</td>\n",
       "      <td>5 day auction</td>\n",
       "      <td>960.790620</td>\n",
       "    </tr>\n",
       "    <tr>\n",
       "      <th>2</th>\n",
       "      <td>Cartier wristwatch</td>\n",
       "      <td>7 day auction</td>\n",
       "      <td>961.307819</td>\n",
       "    </tr>\n",
       "    <tr>\n",
       "      <th>3</th>\n",
       "      <td>Palm Pilot M515 PDA</td>\n",
       "      <td>3 day auction</td>\n",
       "      <td>227.452928</td>\n",
       "    </tr>\n",
       "    <tr>\n",
       "      <th>4</th>\n",
       "      <td>Palm Pilot M515 PDA</td>\n",
       "      <td>5 day auction</td>\n",
       "      <td>230.115270</td>\n",
       "    </tr>\n",
       "    <tr>\n",
       "      <th>5</th>\n",
       "      <td>Palm Pilot M515 PDA</td>\n",
       "      <td>7 day auction</td>\n",
       "      <td>232.527364</td>\n",
       "    </tr>\n",
       "    <tr>\n",
       "      <th>6</th>\n",
       "      <td>Xbox game console</td>\n",
       "      <td>3 day auction</td>\n",
       "      <td>122.560987</td>\n",
       "    </tr>\n",
       "    <tr>\n",
       "      <th>7</th>\n",
       "      <td>Xbox game console</td>\n",
       "      <td>5 day auction</td>\n",
       "      <td>149.259364</td>\n",
       "    </tr>\n",
       "    <tr>\n",
       "      <th>8</th>\n",
       "      <td>Xbox game console</td>\n",
       "      <td>7 day auction</td>\n",
       "      <td>149.091252</td>\n",
       "    </tr>\n",
       "  </tbody>\n",
       "</table>\n",
       "</div>"
      ],
      "text/plain": [
       "                  item   auction_type       price\n",
       "0   Cartier wristwatch  3 day auction  678.779800\n",
       "1   Cartier wristwatch  5 day auction  960.790620\n",
       "2   Cartier wristwatch  7 day auction  961.307819\n",
       "3  Palm Pilot M515 PDA  3 day auction  227.452928\n",
       "4  Palm Pilot M515 PDA  5 day auction  230.115270\n",
       "5  Palm Pilot M515 PDA  7 day auction  232.527364\n",
       "6    Xbox game console  3 day auction  122.560987\n",
       "7    Xbox game console  5 day auction  149.259364\n",
       "8    Xbox game console  7 day auction  149.091252"
      ]
     },
     "execution_count": 36,
     "metadata": {},
     "output_type": "execute_result"
    }
   ],
   "source": [
    "# grouping results\n",
    "df_gptest=df[['item','auction_type','price']]\n",
    "grouped_test1=df_gptest.groupby(['item','auction_type'],as_index= False).mean()\n",
    "grouped_test1"
   ]
  },
  {
   "cell_type": "markdown",
   "metadata": {},
   "source": [
    "data yang telah di grouping akan lebih mudah untuk divisualisasikan apabila di transform dalam pivot table. secara sederhana pivot tabel mirip dengan excel spreadsheat\n",
    "\n",
    "untuk percobaan ini kita akan mencoba untuk menset variabel **item** sebagai baris dan variabel **auction_type** sebagai kolom"
   ]
  },
  {
   "cell_type": "code",
   "execution_count": 37,
   "metadata": {},
   "outputs": [
    {
     "data": {
      "text/html": [
       "<div>\n",
       "<style scoped>\n",
       "    .dataframe tbody tr th:only-of-type {\n",
       "        vertical-align: middle;\n",
       "    }\n",
       "\n",
       "    .dataframe tbody tr th {\n",
       "        vertical-align: top;\n",
       "    }\n",
       "\n",
       "    .dataframe thead tr th {\n",
       "        text-align: left;\n",
       "    }\n",
       "\n",
       "    .dataframe thead tr:last-of-type th {\n",
       "        text-align: right;\n",
       "    }\n",
       "</style>\n",
       "<table border=\"1\" class=\"dataframe\">\n",
       "  <thead>\n",
       "    <tr>\n",
       "      <th></th>\n",
       "      <th colspan=\"3\" halign=\"left\">price</th>\n",
       "    </tr>\n",
       "    <tr>\n",
       "      <th>auction_type</th>\n",
       "      <th>3 day auction</th>\n",
       "      <th>5 day auction</th>\n",
       "      <th>7 day auction</th>\n",
       "    </tr>\n",
       "    <tr>\n",
       "      <th>item</th>\n",
       "      <th></th>\n",
       "      <th></th>\n",
       "      <th></th>\n",
       "    </tr>\n",
       "  </thead>\n",
       "  <tbody>\n",
       "    <tr>\n",
       "      <th>Cartier wristwatch</th>\n",
       "      <td>678.779800</td>\n",
       "      <td>960.790620</td>\n",
       "      <td>961.307819</td>\n",
       "    </tr>\n",
       "    <tr>\n",
       "      <th>Palm Pilot M515 PDA</th>\n",
       "      <td>227.452928</td>\n",
       "      <td>230.115270</td>\n",
       "      <td>232.527364</td>\n",
       "    </tr>\n",
       "    <tr>\n",
       "      <th>Xbox game console</th>\n",
       "      <td>122.560987</td>\n",
       "      <td>149.259364</td>\n",
       "      <td>149.091252</td>\n",
       "    </tr>\n",
       "  </tbody>\n",
       "</table>\n",
       "</div>"
      ],
      "text/plain": [
       "                            price                            \n",
       "auction_type        3 day auction 5 day auction 7 day auction\n",
       "item                                                         \n",
       "Cartier wristwatch     678.779800    960.790620    961.307819\n",
       "Palm Pilot M515 PDA    227.452928    230.115270    232.527364\n",
       "Xbox game console      122.560987    149.259364    149.091252"
      ]
     },
     "execution_count": 37,
     "metadata": {},
     "output_type": "execute_result"
    }
   ],
   "source": [
    "grouped_pivot=grouped_test1.pivot(index='item',columns='auction_type')\n",
    "grouped_pivot"
   ]
  },
  {
   "cell_type": "markdown",
   "metadata": {},
   "source": [
    "### variabels : item dan auction_type vs price\n",
    "\n",
    "kita dapat menggunakan heat map untuk melakukan visualisasi "
   ]
  },
  {
   "cell_type": "code",
   "execution_count": 38,
   "metadata": {},
   "outputs": [
    {
     "data": {
      "image/png": "[encoded data removed]",
      "text/plain": [
       "<Figure size 432x288 with 2 Axes>"
      ]
     },
     "metadata": {
      "needs_background": "light"
     },
     "output_type": "display_data"
    }
   ],
   "source": [
    "plt.pcolor(grouped_pivot, cmap='RdBu')\n",
    "plt.colorbar()\n",
    "plt.show()"
   ]
  },
  {
   "cell_type": "code",
   "execution_count": 40,
   "metadata": {},
   "outputs": [
    {
     "data": {
      "image/png": "[encoded data removed]",
      "text/plain": [
       "<Figure size 432x288 with 2 Axes>"
      ]
     },
     "metadata": {
      "needs_background": "light"
     },
     "output_type": "display_data"
    }
   ],
   "source": [
    "import numpy as np\n",
    "fig, ax=plt.subplots()\n",
    "im=ax.pcolor(grouped_pivot, cmap='RdBu')\n",
    "\n",
    "#label names\n",
    "row_labels=grouped_pivot.columns.levels[1]\n",
    "col_labels=grouped_pivot.index\n",
    "#move ticks and labels to the center\n",
    "ax.set_xticks(np.arange(grouped_pivot.shape[1])+0.5, minor=False)\n",
    "ax.set_yticks(np.arange(grouped_pivot.shape[0])+0.5, minor=False)\n",
    "#insert labels\n",
    "ax.set_xticklabels(row_labels, minor=False)\n",
    "ax.set_yticklabels(col_labels, minor=False)\n",
    "#rotate label if too long\n",
    "plt.xticks(rotation=90)\n",
    "\n",
    "fig.colorbar(im)\n",
    "plt.show()"
   ]
  },
  {
   "cell_type": "markdown",
   "metadata": {},
   "source": [
    "visualisasi memegang peran yang penting dalam data science dan python menyediakan banyak package yang **seru** untuk diulik\n",
    "\n",
    "pertanyaan selanjutnya adalah **apa karakteristik utama yang dapat memberikan impact tertinggi dalam menentukan harga suatu item?**\n",
    "\n",
    "untuk mendapatkan hasil yang lebih baik dalam menentukan karakteristik terpenting, kita dapat melakukan pengecekan nilai korelasi masing masing variabel terhadap harga item\n",
    "\n"
   ]
  },
  {
   "cell_type": "markdown",
   "metadata": {},
   "source": [
    "## 4. Correlation dan Causation\n",
    "\n",
    "**Correlation** : perhitungan untuk menilai interpendensi antar variabel\n",
    "\n",
    "**Causation** : hubungan antara sebab dan akibat antar 2 variabel"
   ]
  },
  {
   "cell_type": "markdown",
   "metadata": {},
   "source": [
    "### Pearson Correlation\n",
    "\n",
    "Pearson Correlation menghitung linear dependence antar dua variabel X dan Y. Hasil Coeficient akan berada pada rentang -1 dan 1\n",
    "dimana :\n",
    "* **1**: Total Positive linear correlation\n",
    "* **0** : no linear correlation, artinya kedua variabel tersebut tidak berhubungan atau memberi efek satu sama lainnya\n",
    "* **-1** : total negative linear correlation\n",
    "\n",
    "**Pearson Correlation** merupakan perhitungan default dalam method **corr**. Seperti sebelumnya kita dapat menghitung nilai korelasi dari variabel yang memiliki tipe **int64** dan **float64**\n"
   ]
  },
  {
   "cell_type": "code",
   "execution_count": 41,
   "metadata": {},
   "outputs": [
    {
     "data": {
      "text/html": [
       "<div>\n",
       "<style scoped>\n",
       "    .dataframe tbody tr th:only-of-type {\n",
       "        vertical-align: middle;\n",
       "    }\n",
       "\n",
       "    .dataframe tbody tr th {\n",
       "        vertical-align: top;\n",
       "    }\n",
       "\n",
       "    .dataframe thead th {\n",
       "        text-align: right;\n",
       "    }\n",
       "</style>\n",
       "<table border=\"1\" class=\"dataframe\">\n",
       "  <thead>\n",
       "    <tr style=\"text-align: right;\">\n",
       "      <th></th>\n",
       "      <th>auctionid</th>\n",
       "      <th>bid</th>\n",
       "      <th>bidtime</th>\n",
       "      <th>bidderrate</th>\n",
       "      <th>openbid</th>\n",
       "      <th>price</th>\n",
       "    </tr>\n",
       "  </thead>\n",
       "  <tbody>\n",
       "    <tr>\n",
       "      <th>auctionid</th>\n",
       "      <td>1.000000</td>\n",
       "      <td>-0.321241</td>\n",
       "      <td>0.105107</td>\n",
       "      <td>-0.006708</td>\n",
       "      <td>-0.147995</td>\n",
       "      <td>-0.379600</td>\n",
       "    </tr>\n",
       "    <tr>\n",
       "      <th>bid</th>\n",
       "      <td>-0.321241</td>\n",
       "      <td>1.000000</td>\n",
       "      <td>0.132494</td>\n",
       "      <td>-0.016641</td>\n",
       "      <td>0.609979</td>\n",
       "      <td>0.858311</td>\n",
       "    </tr>\n",
       "    <tr>\n",
       "      <th>bidtime</th>\n",
       "      <td>0.105107</td>\n",
       "      <td>0.132494</td>\n",
       "      <td>1.000000</td>\n",
       "      <td>-0.031590</td>\n",
       "      <td>0.054780</td>\n",
       "      <td>-0.090308</td>\n",
       "    </tr>\n",
       "    <tr>\n",
       "      <th>bidderrate</th>\n",
       "      <td>-0.006708</td>\n",
       "      <td>-0.016641</td>\n",
       "      <td>-0.031590</td>\n",
       "      <td>1.000000</td>\n",
       "      <td>-0.001964</td>\n",
       "      <td>-0.015810</td>\n",
       "    </tr>\n",
       "    <tr>\n",
       "      <th>openbid</th>\n",
       "      <td>-0.147995</td>\n",
       "      <td>0.609979</td>\n",
       "      <td>0.054780</td>\n",
       "      <td>-0.001964</td>\n",
       "      <td>1.000000</td>\n",
       "      <td>0.495343</td>\n",
       "    </tr>\n",
       "    <tr>\n",
       "      <th>price</th>\n",
       "      <td>-0.379600</td>\n",
       "      <td>0.858311</td>\n",
       "      <td>-0.090308</td>\n",
       "      <td>-0.015810</td>\n",
       "      <td>0.495343</td>\n",
       "      <td>1.000000</td>\n",
       "    </tr>\n",
       "  </tbody>\n",
       "</table>\n",
       "</div>"
      ],
      "text/plain": [
       "            auctionid       bid   bidtime  bidderrate   openbid     price\n",
       "auctionid    1.000000 -0.321241  0.105107   -0.006708 -0.147995 -0.379600\n",
       "bid         -0.321241  1.000000  0.132494   -0.016641  0.609979  0.858311\n",
       "bidtime      0.105107  0.132494  1.000000   -0.031590  0.054780 -0.090308\n",
       "bidderrate  -0.006708 -0.016641 -0.031590    1.000000 -0.001964 -0.015810\n",
       "openbid     -0.147995  0.609979  0.054780   -0.001964  1.000000  0.495343\n",
       "price       -0.379600  0.858311 -0.090308   -0.015810  0.495343  1.000000"
      ]
     },
     "execution_count": 41,
     "metadata": {},
     "output_type": "execute_result"
    }
   ],
   "source": [
    "df.corr()"
   ]
  },
  {
   "cell_type": "markdown",
   "metadata": {},
   "source": [
    "terkadang kita memerlukan untuk mengetahui signifikasi antar korelasi\n",
    "\n",
    "**P-Value** : P-Value merupakan nilai probabilitas correlasi antara 2 variabel yang secara statistik signifikan\n",
    "\n",
    "\n",
    "kita dapat mendapatkan informasi ini dengan menggunakan method **stats** dalam module **scipy**"
   ]
  },
  {
   "cell_type": "code",
   "execution_count": 42,
   "metadata": {},
   "outputs": [],
   "source": [
    "from scipy import stats"
   ]
  },
  {
   "cell_type": "markdown",
   "metadata": {},
   "source": [
    "### Bid vs Price\n",
    "\n",
    "saya akan coba melakukan perhitungan  Pearson Correlation dan nilai Pvalue antata**bid** dan **price**"
   ]
  },
  {
   "cell_type": "code",
   "execution_count": 43,
   "metadata": {},
   "outputs": [
    {
     "name": "stdout",
     "output_type": "stream",
     "text": [
      "The Pearson Correlation Coefficient is 0.8583109044151845  with a P-value of P = 0.0\n"
     ]
    },
    {
     "data": {
      "text/plain": [
       "<matplotlib.axes._subplots.AxesSubplot at 0x1db079332b0>"
      ]
     },
     "execution_count": 43,
     "metadata": {},
     "output_type": "execute_result"
    },
    {
     "data": {
      "image/png": "[encoded data removed]",
      "text/plain": [
       "<Figure size 432x288 with 1 Axes>"
      ]
     },
     "metadata": {
      "needs_background": "light"
     },
     "output_type": "display_data"
    }
   ],
   "source": [
    "pearson_coef, p_value = stats.pearsonr(df['bid'], df['price'])\n",
    "print(\"The Pearson Correlation Coefficient is\", pearson_coef, \" with a P-value of P =\", p_value)\n",
    "sns.regplot(x='bid', y='price', data=df)"
   ]
  },
  {
   "cell_type": "markdown",
   "metadata": {},
   "source": [
    "kesimpulan karena nilai p-value yang dikeluarkan sistem adalah **0.0** maka korelasi antara **bid** dan **price** secara statistik adalah kuat dan nilai hubungan linearnya juga relatif tinggi **0.85**"
   ]
  },
  {
   "cell_type": "markdown",
   "metadata": {},
   "source": [
    "## 5. ANOVA\n",
    "\n",
    "### ANOVA : Analysis of Variance\n",
    "analsis ANOVA merupakan metode statistik untuk melakukan percobaan apakah ada perbedaan yang signifikan antar 2 atau lebih group\n",
    "\n",
    "ANOVA mengeluarkan 2 parameter\n",
    "* F-test score\n",
    "* P-Value"
   ]
  },
  {
   "cell_type": "markdown",
   "metadata": {},
   "source": [
    "### ITEM\n",
    "\n",
    "mari kita lihat apakah **item** mempengaruhi **harga**"
   ]
  },
  {
   "cell_type": "code",
   "execution_count": 44,
   "metadata": {},
   "outputs": [
    {
     "data": {
      "text/html": [
       "<div>\n",
       "<style scoped>\n",
       "    .dataframe tbody tr th:only-of-type {\n",
       "        vertical-align: middle;\n",
       "    }\n",
       "\n",
       "    .dataframe tbody tr th {\n",
       "        vertical-align: top;\n",
       "    }\n",
       "\n",
       "    .dataframe thead th {\n",
       "        text-align: right;\n",
       "    }\n",
       "</style>\n",
       "<table border=\"1\" class=\"dataframe\">\n",
       "  <thead>\n",
       "    <tr style=\"text-align: right;\">\n",
       "      <th></th>\n",
       "      <th>item</th>\n",
       "      <th>price</th>\n",
       "    </tr>\n",
       "  </thead>\n",
       "  <tbody>\n",
       "    <tr>\n",
       "      <th>0</th>\n",
       "      <td>Cartier wristwatch</td>\n",
       "      <td>177.50</td>\n",
       "    </tr>\n",
       "    <tr>\n",
       "      <th>1</th>\n",
       "      <td>Cartier wristwatch</td>\n",
       "      <td>177.50</td>\n",
       "    </tr>\n",
       "    <tr>\n",
       "      <th>1953</th>\n",
       "      <td>Palm Pilot M515 PDA</td>\n",
       "      <td>256.86</td>\n",
       "    </tr>\n",
       "    <tr>\n",
       "      <th>1954</th>\n",
       "      <td>Palm Pilot M515 PDA</td>\n",
       "      <td>256.86</td>\n",
       "    </tr>\n",
       "    <tr>\n",
       "      <th>7870</th>\n",
       "      <td>Xbox game console</td>\n",
       "      <td>117.50</td>\n",
       "    </tr>\n",
       "    <tr>\n",
       "      <th>7871</th>\n",
       "      <td>Xbox game console</td>\n",
       "      <td>117.50</td>\n",
       "    </tr>\n",
       "  </tbody>\n",
       "</table>\n",
       "</div>"
      ],
      "text/plain": [
       "                     item   price\n",
       "0      Cartier wristwatch  177.50\n",
       "1      Cartier wristwatch  177.50\n",
       "1953  Palm Pilot M515 PDA  256.86\n",
       "1954  Palm Pilot M515 PDA  256.86\n",
       "7870    Xbox game console  117.50\n",
       "7871    Xbox game console  117.50"
      ]
     },
     "execution_count": 44,
     "metadata": {},
     "output_type": "execute_result"
    }
   ],
   "source": [
    "grouped_test2=df_gptest[['item','price']].groupby(['item'])\n",
    "grouped_test2.head(2)"
   ]
  },
  {
   "cell_type": "markdown",
   "metadata": {},
   "source": [
    "kita dapat mendaparkan value dari method group dengan method **get_group**"
   ]
  },
  {
   "cell_type": "code",
   "execution_count": 45,
   "metadata": {
    "collapsed": true
   },
   "outputs": [
    {
     "data": {
      "text/plain": [
       "0        177.50\n",
       "1        177.50\n",
       "2        177.50\n",
       "3        177.50\n",
       "4        177.50\n",
       "5        355.00\n",
       "6        355.00\n",
       "7        355.00\n",
       "8        355.00\n",
       "9        355.00\n",
       "10       355.00\n",
       "11       355.00\n",
       "12       355.00\n",
       "13       355.00\n",
       "14       355.00\n",
       "15       355.00\n",
       "16       355.00\n",
       "17       355.00\n",
       "18       355.00\n",
       "19       355.00\n",
       "20       355.00\n",
       "21       355.00\n",
       "22       355.00\n",
       "23       355.00\n",
       "24       355.00\n",
       "25       355.00\n",
       "26       355.00\n",
       "27       355.00\n",
       "28       355.00\n",
       "29       355.00\n",
       "         ...   \n",
       "1923    3050.00\n",
       "1924    3050.00\n",
       "1925    3050.00\n",
       "1926     154.38\n",
       "1927     154.38\n",
       "1928     154.38\n",
       "1929     154.38\n",
       "1930     154.38\n",
       "1931     154.38\n",
       "1932     154.38\n",
       "1933     154.38\n",
       "1934     154.38\n",
       "1935     154.38\n",
       "1936     154.38\n",
       "1937     154.38\n",
       "1938     154.38\n",
       "1939     154.38\n",
       "1940     154.38\n",
       "1941     154.38\n",
       "1942     154.38\n",
       "1943     154.38\n",
       "1944     154.38\n",
       "1945     380.00\n",
       "1946     380.00\n",
       "1947     380.00\n",
       "1948     405.00\n",
       "1949     405.00\n",
       "1950     405.00\n",
       "1951     405.00\n",
       "1952     405.00\n",
       "Name: price, Length: 1953, dtype: float64"
      ]
     },
     "execution_count": 45,
     "metadata": {},
     "output_type": "execute_result"
    }
   ],
   "source": [
    "grouped_test2.get_group('Cartier wristwatch')['price']"
   ]
  },
  {
   "cell_type": "markdown",
   "metadata": {},
   "source": [
    "kita dapat menggunakan fungsi **f_oneway** dalam module **stats** untuk mendapatkan nilai **F-test** dan **P-value**"
   ]
  },
  {
   "cell_type": "code",
   "execution_count": 46,
   "metadata": {},
   "outputs": [
    {
     "name": "stdout",
     "output_type": "stream",
     "text": [
      "ANOVA results: F= 3892.237475535568 , P = 0.0\n"
     ]
    }
   ],
   "source": [
    "# ANOVA\n",
    "f_val, p_val = stats.f_oneway(grouped_test2.get_group('Cartier wristwatch')['price'], grouped_test2.get_group('Palm Pilot M515 PDA')['price'], grouped_test2.get_group('Xbox game console')['price'])  \n",
    " \n",
    "print( \"ANOVA results: F=\", f_val, \", P =\", p_val)   "
   ]
  },
  {
   "cell_type": "markdown",
   "metadata": {},
   "source": [
    "kita dapat melakukan percobaan dengan variabel lain"
   ]
  },
  {
   "cell_type": "markdown",
   "metadata": {},
   "source": [
    "untuk mendapatkan variabel yang penting sebagai fitur dapat dilakukan eksperimen dengan menggunakan teknik yang diatas pada setiap variabel yang tersedia pada data\n",
    "\n",
    "untuk tugas kali ini saya hanya mencontohkan beberapa variabel sebagai sampling"
   ]
  },
  {
   "cell_type": "markdown",
   "metadata": {},
   "source": [
    "terima kasih perhatiannya \n",
    "Salam, **Hendri Priyambowo**"
   ]
  }
 ],
 "metadata": {
  "kernelspec": {
   "display_name": "Python 3",
   "language": "python",
   "name": "python3"
  },
  "language_info": {
   "codemirror_mode": {
    "name": "ipython",
    "version": 3
   },
   "file_extension": ".py",
   "mimetype": "text/x-python",
   "name": "python",
   "nbconvert_exporter": "python",
   "pygments_lexer": "ipython3",
   "version": "3.7.1"
  }
 },
 "nbformat": 4,
 "nbformat_minor": 2
}
